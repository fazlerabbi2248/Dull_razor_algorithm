{
 "cells": [
  {
   "cell_type": "code",
   "execution_count": 3,
   "metadata": {},
   "outputs": [],
   "source": [
    "import cv2\n",
    "import os"
   ]
  },
  {
   "cell_type": "code",
   "execution_count": 4,
   "metadata": {},
   "outputs": [],
   "source": [
    "def apply_dull_razor(input_folder_path, output_folder_path):\n",
    "\n",
    "    dull_razor_classifier = cv2.CascadeClassifier(\"path/to/dull_razor_classifier.xml\")\n",
    "\n",
    "   \n",
    "    for filename in os.listdir(input_folder_path):\n",
    "        if filename.endswith(\".jpg\") or filename.endswith(\".png\"):\n",
    "        \n",
    "            input_image_path = os.path.join(input_folder_path, filename)\n",
    "            input_image = cv2.imread(input_image_path)\n",
    "\n",
    "\n",
    "            gray_image = cv2.cvtColor(input_image, cv2.COLOR_BGR2GRAY)\n",
    "            faces = dull_razor_classifier.detectMultiScale(gray_image, scaleFactor=1.1, minNeighbors=5, minSize=(30, 30))\n",
    "            for (x, y, w, h) in faces:\n",
    "                roi = input_image[y:y+h, x:x+w]\n",
    "                input_image[y:y+h, x:x+w] = cv2.GaussianBlur(roi, (25, 25), 0)\n",
    "\n",
    "          \n",
    "            output_image_path = os.path.join(output_folder_path, filename)\n",
    "            cv2.imwrite(output_image_path, input_image)\n",
    "            print(input_image)"
   ]
  },
  {
   "cell_type": "code",
   "execution_count": 5,
   "metadata": {},
   "outputs": [],
   "source": [
    "kernel = cv2.getStructuringElement(1,(17,17))"
   ]
  },
  {
   "cell_type": "code",
   "execution_count": 6,
   "metadata": {},
   "outputs": [],
   "source": [
    "def Dellrazor(image):\n",
    "    grayScale = cv2.cvtColor( image, cv2.COLOR_RGB2GRAY )\n",
    "    blackhat = cv2.morphologyEx(grayScale, cv2.MORPH_BLACKHAT, kernel)\n",
    "    ret,thresh2 = cv2.threshold(blackhat,10,255,cv2.THRESH_BINARY)\n",
    "    return cv2.inpaint(image,thresh2,1,cv2.INPAINT_TELEA)\n"
   ]
  },
  {
   "cell_type": "code",
   "execution_count": 13,
   "metadata": {},
   "outputs": [],
   "source": [
    "src_folder = \"C:/Users/Fazle Rabbi/Image prepocessing/archive/train\"\n",
    "dest_folder = \"C:/Users/Fazle Rabbi/Image prepocessing/archive/new_train\""
   ]
  },
  {
   "cell_type": "code",
   "execution_count": 16,
   "metadata": {},
   "outputs": [
    {
     "name": "stdout",
     "output_type": "stream",
     "text": [
      "List of files and directories in C:/Users/Fazle Rabbi/Image prepocessing/archive/train\n",
      "['benign', 'malignant']\n"
     ]
    }
   ],
   "source": [
    "dir_list = os.listdir(src_folder)\n",
    "\n",
    "print(\"List of files and directories in\", src_folder)\n",
    "print(dir_list)"
   ]
  },
  {
   "cell_type": "code",
   "execution_count": 22,
   "metadata": {},
   "outputs": [],
   "source": [
    "for category in os.listdir(src_folder):\n",
    "   \n",
    "    src_subfolder = os.path.join(src_folder, category)\n",
    "    dest_subfolder = os.path.join(dest_folder, category)\n",
    "    os.makedirs(dest_subfolder, exist_ok=True)\n",
    "    \n",
    "    \n",
    "    for image_name in os.listdir(src_subfolder):\n",
    "     \n",
    "        image_path = os.path.join(src_subfolder, image_name)\n",
    "        image = cv2.imread(image_path)\n",
    "        \n",
    "        \n",
    "        hairless_image = Dellrazor(image)\n",
    "        \n",
    "       \n",
    "        dest_path = os.path.join(dest_subfolder, image_name)\n",
    "        cv2.imwrite(dest_path, hairless_image)"
   ]
  },
  {
   "cell_type": "code",
   "execution_count": 1,
   "metadata": {},
   "outputs": [],
   "source": [
    "src1_folder = \"C:/Users/Fazle Rabbi/Image prepocessing/archive/test\"\n",
    "dest1_folder = \"C:/Users/Fazle Rabbi/Image prepocessing/archive/new_test\""
   ]
  },
  {
   "cell_type": "code",
   "execution_count": 7,
   "metadata": {},
   "outputs": [],
   "source": [
    "for category in os.listdir(src1_folder):\n",
    "  \n",
    "    src_subfolder = os.path.join(src1_folder, category)\n",
    "    dest_subfolder = os.path.join(dest1_folder, category)\n",
    "    os.makedirs(dest_subfolder, exist_ok=True)\n",
    "    \n",
    "   \n",
    "    for image_name in os.listdir(src_subfolder):\n",
    "     \n",
    "        image_path = os.path.join(src_subfolder, image_name)\n",
    "        image = cv2.imread(image_path)\n",
    "        \n",
    "      \n",
    "        hairless_image = Dellrazor(image)\n",
    "        \n",
    "        \n",
    "        dest_path = os.path.join(dest_subfolder, image_name)\n",
    "        cv2.imwrite(dest_path, hairless_image)"
   ]
  },
  {
   "cell_type": "code",
   "execution_count": null,
   "metadata": {},
   "outputs": [],
   "source": []
  }
 ],
 "metadata": {
  "kernelspec": {
   "display_name": "Python 3",
   "language": "python",
   "name": "python3"
  },
  "language_info": {
   "codemirror_mode": {
    "name": "ipython",
    "version": 3
   },
   "file_extension": ".py",
   "mimetype": "text/x-python",
   "name": "python",
   "nbconvert_exporter": "python",
   "pygments_lexer": "ipython3",
   "version": "3.8.5"
  }
 },
 "nbformat": 4,
 "nbformat_minor": 4
}
